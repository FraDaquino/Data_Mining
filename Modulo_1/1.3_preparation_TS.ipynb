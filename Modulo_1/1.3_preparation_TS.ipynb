{
 "cells": [
  {
   "cell_type": "code",
   "execution_count": 1,
   "id": "ad0d2e32-bc54-42a7-9ddb-f9c9485a6804",
   "metadata": {},
   "outputs": [],
   "source": [
    "import os\n",
    "import numpy as np\n",
    "import pandas as pd\n",
    "from matplotlib import pyplot as plt\n",
    "import pathlib"
   ]
  },
  {
   "cell_type": "markdown",
   "id": "83883913",
   "metadata": {},
   "source": [
    "## check lunghezza ts"
   ]
  },
  {
   "cell_type": "code",
   "execution_count": 2,
   "id": "7f630b8e",
   "metadata": {},
   "outputs": [],
   "source": [
    "def load_npy(filename):\n",
    "    with open(filename, 'rb') as f:\n",
    "        return np.load(f)"
   ]
  },
  {
   "cell_type": "code",
   "execution_count": 3,
   "id": "9ade8348",
   "metadata": {},
   "outputs": [
    {
     "name": "stdout",
     "output_type": "stream",
     "text": [
      "10000\n"
     ]
    }
   ],
   "source": [
    "dataset_folder = pathlib.Path(r\"C:\\Users\\HUAWEI\\Desktop\\DM2\\project NEW\\dataset\\time_series\")\n",
    "file_list = list(dataset_folder.iterdir())\n",
    "print(len(file_list))"
   ]
  },
  {
   "cell_type": "code",
   "execution_count": 25,
   "id": "12446f6f",
   "metadata": {},
   "outputs": [
    {
     "name": "stdout",
     "output_type": "stream",
     "text": [
      "10000\n"
     ]
    }
   ],
   "source": [
    "#check formato file\n",
    "\n",
    "for i, path in enumerate(file_list):\n",
    "    if path.suffix != \".npy\":\n",
    "        file_list.pop(i)\n",
    "file_list = sorted(file_list)\n",
    "print(len(file_list))"
   ]
  },
  {
   "cell_type": "code",
   "execution_count": 27,
   "id": "24511f5d",
   "metadata": {},
   "outputs": [],
   "source": [
    "#estraggo\n",
    "array = list()\n",
    "for path in file_list:\n",
    "    ts_file = load_npy(path)\n",
    "    if ts_file.size > 1280:\n",
    "        print(ts_file.size)\n",
    "    #array.append([ts_file])"
   ]
  },
  {
   "cell_type": "markdown",
   "id": "60c68b22",
   "metadata": {},
   "source": [
    "HO VERIFICATO CHE LUNGHEZZA MASSIMA è 1280\n",
    "\n",
    "### continuo con codici prof"
   ]
  },
  {
   "cell_type": "code",
   "execution_count": 28,
   "id": "aa9cbdfa",
   "metadata": {},
   "outputs": [],
   "source": [
    "def load_npy(filename):\n",
    "    return np.load(filename)"
   ]
  },
  {
   "cell_type": "code",
   "execution_count": 3,
   "id": "1d266268-1458-47bc-afcb-c62463501336",
   "metadata": {},
   "outputs": [],
   "source": [
    "dir_path = 'time_series/'\n",
    "len_threshold = 1280  "
   ]
  },
  {
   "cell_type": "code",
   "execution_count": 4,
   "id": "6f122d66-a152-4c99-8c9d-a5148287142e",
   "metadata": {},
   "outputs": [],
   "source": [
    "X, y, ids = [], [], []\n",
    "\n",
    "for file in os.listdir(dir_path):\n",
    "    if os.path.splitext(file)[1] != '.npy':\n",
    "        continue\n",
    "\n",
    "    split = file.split(\"_\")\n",
    "    ids.append(split[0]) # track_id\n",
    "    y.append(split[1][:-4]) # genre\n",
    "    ts = load_npy(dir_path + file)\n",
    "    \n",
    "    if len(ts) > len_threshold:\n",
    "        ts = ts[0:len_threshold]\n",
    "        \n",
    "    else: #caso ts minore di 1280\n",
    "        # pad = [np.mean(ts[:-5])] * (len_threshold-len(ts)) # fill by mean value of last n observations\n",
    "        pad = [ts[-1]] * (len_threshold-len(ts)) # fill with last observation\n",
    "        ts = np.append(ts, pad) \n",
    "\n",
    "    X.append([ts])\n",
    "\n",
    "X, y, ids = np.array(X), np.array(y), np.array(ids)"
   ]
  },
  {
   "cell_type": "code",
   "execution_count": 5,
   "id": "0eb87aa0-3a2d-4e99-aeb3-c3bf0aed17a4",
   "metadata": {},
   "outputs": [
    {
     "data": {
      "text/plain": [
       "((10000, 1, 1280), (10000,))"
      ]
     },
     "execution_count": 5,
     "metadata": {},
     "output_type": "execute_result"
    }
   ],
   "source": [
    "X.shape, y.shape"
   ]
  },
  {
   "cell_type": "code",
   "execution_count": 6,
   "id": "4782b6c9-6d84-436f-92d6-7905791de873",
   "metadata": {},
   "outputs": [],
   "source": [
    "## Ready to be used with sktime library ##\n",
    "\n",
    "# array of 10000  1-dimentional arrays, each of length 1280\n",
    "#         (10000, 1,                                   1280)"
   ]
  },
  {
   "cell_type": "markdown",
   "id": "c5585ff4-be22-4a47-ab37-af3c381b08c6",
   "metadata": {},
   "source": [
    "```{code-cell} ipython3\n",
    "!pip install sktime[all_extras]\n",
    "```"
   ]
  },
  {
   "cell_type": "code",
   "execution_count": 7,
   "id": "b3822d32-c93c-45e3-a6f1-562e6f917f17",
   "metadata": {},
   "outputs": [],
   "source": [
    "# these (or any other) numpy arrays can be also saved as npy files (for subsequent reloading)\n",
    "np.savez(r'C:\\Users\\HUAWEI\\Desktop\\DM2\\project NEW\\output_data\\X_y_ids', X, y, ids)\n",
    "\n",
    "# reload\n",
    "# X_y_ids = load_npy('X_y_ids.npz') \n",
    "# X, y, ids = X_y_ids['arr_0'], X_y_ids['arr_1'], X_y_ids['arr_2']"
   ]
  }
 ],
 "metadata": {
  "kernelspec": {
   "display_name": "Python 3 (ipykernel)",
   "language": "python",
   "name": "python3"
  },
  "language_info": {
   "codemirror_mode": {
    "name": "ipython",
    "version": 3
   },
   "file_extension": ".py",
   "mimetype": "text/x-python",
   "name": "python",
   "nbconvert_exporter": "python",
   "pygments_lexer": "ipython3",
   "version": "3.11.5"
  }
 },
 "nbformat": 4,
 "nbformat_minor": 5
}
